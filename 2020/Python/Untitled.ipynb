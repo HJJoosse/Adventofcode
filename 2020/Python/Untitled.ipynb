{
 "cells": [
  {
   "cell_type": "code",
   "execution_count": 1,
   "metadata": {},
   "outputs": [],
   "source": [
    "def day1(link):\n",
    "    import re    \n",
    "\n",
    "    with open(link,'r') as f:\n",
    "        content = f.read()\n",
    "\n",
    "    numbers_list = sorted([int(x) for x in re.findall('\\d+',content)])\n",
    "\n",
    "    for val in numbers_list:\n",
    "        rest = 2020 - val\n",
    "        if rest in [x for x in numbers_list if x > val]:\n",
    "            print(rest*val)"
   ]
  },
  {
   "cell_type": "code",
   "execution_count": 4,
   "metadata": {},
   "outputs": [
    {
     "name": "stdout",
     "output_type": "stream",
     "text": [
      "CPU times: user 2 µs, sys: 1 µs, total: 3 µs\n",
      "Wall time: 5.96 µs\n",
      "1006875\n"
     ]
    }
   ],
   "source": [
    "%time\n",
    "day1(\"../Data/input_d1\")"
   ]
  }
 ],
 "metadata": {
  "kernelspec": {
   "display_name": "Python 3",
   "language": "python",
   "name": "python3"
  },
  "language_info": {
   "codemirror_mode": {
    "name": "ipython",
    "version": 3
   },
   "file_extension": ".py",
   "mimetype": "text/x-python",
   "name": "python",
   "nbconvert_exporter": "python",
   "pygments_lexer": "ipython3",
   "version": "3.7.1"
  }
 },
 "nbformat": 4,
 "nbformat_minor": 4
}
