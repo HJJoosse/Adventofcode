{
 "cells": [
  {
   "cell_type": "code",
   "execution_count": null,
   "metadata": {},
   "outputs": [],
   "source": [
    "def day1(link):\n",
    "    import re    \n",
    "\n",
    "    with open(link,'r') as f:\n",
    "        content = f.read()\n",
    "\n",
    "    numbers_list = sorted([int(x) for x in re.findall('\\d+',content)])\n",
    "\n",
    "    for val in numbers_list:\n",
    "        rest = 2020 - val\n",
    "        if rest in [x for x in numbers_list if x > val]:\n",
    "            print(rest*val)"
   ]
  }
 ],
 "metadata": {
  "kernelspec": {
   "display_name": "Python 3",
   "language": "python",
   "name": "python3"
  },
  "language_info": {
   "codemirror_mode": {
    "name": "ipython",
    "version": 3
   },
   "file_extension": ".py",
   "mimetype": "text/x-python",
   "name": "python",
   "nbconvert_exporter": "python",
   "pygments_lexer": "ipython3",
   "version": "3.7.1"
  }
 },
 "nbformat": 4,
 "nbformat_minor": 4
}
