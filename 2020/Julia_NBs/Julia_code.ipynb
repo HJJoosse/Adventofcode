{
 "cells": [
  {
   "cell_type": "markdown",
   "metadata": {},
   "source": [
    "## DAY 1"
   ]
  },
  {
   "cell_type": "code",
   "execution_count": 1,
   "metadata": {
    "scrolled": true
   },
   "outputs": [
    {
     "data": {
      "text/plain": [
       "day1 (generic function with 1 method)"
      ]
     },
     "execution_count": 1,
     "metadata": {},
     "output_type": "execute_result"
    }
   ],
   "source": [
    "\n",
    "function day1(link)\n",
    "    text = readlines(link)\n",
    "    data = sort(parse.(Int32,text))\n",
    "\n",
    "    for x in data\n",
    "        rest = 2020-x\n",
    "        if rest in [z for z in data if z > x]\n",
    "            print(rest*x)\n",
    "        end\n",
    "    end\n",
    "end\n",
    "\n",
    "    \n"
   ]
  },
  {
   "cell_type": "code",
   "execution_count": 2,
   "metadata": {},
   "outputs": [
    {
     "name": "stdout",
     "output_type": "stream",
     "text": [
      "1006875  0.123668 seconds (121.38 k allocations: 7.360 MiB, 96.48% compilation time)\n"
     ]
    }
   ],
   "source": [
    "@time begin\n",
    "    day1(\"../Data/input_d1\")\n",
    "end"
   ]
  },
  {
   "cell_type": "code",
   "execution_count": 4,
   "metadata": {},
   "outputs": [
    {
     "name": "stdout",
     "output_type": "stream",
     "text": [
      "165026160\n"
     ]
    }
   ],
   "source": [
    "text = readlines(\"../Data/input_d1\")\n",
    "data = sort(parse.(Int32,text))\n",
    "\n",
    "\n",
    "for x in data\n",
    "    rest = 2020-x\n",
    "    for y in [w for w in data if w > x]\n",
    "        rest_2 = rest - y\n",
    "        if (rest_2 in [z for z in data if z>y])\n",
    "            println(rest_2*y*x)\n",
    "        end\n",
    "    end\n",
    "end"
   ]
  },
  {
   "cell_type": "markdown",
   "metadata": {},
   "source": [
    "## DAY 4"
   ]
  },
  {
   "cell_type": "code",
   "execution_count": null,
   "metadata": {},
   "outputs": [],
   "source": [
    "text = read(\"../Data/input_d4\",String)"
   ]
  },
  {
   "cell_type": "code",
   "execution_count": 6,
   "metadata": {
    "scrolled": true
   },
   "outputs": [
    {
     "data": {
      "text/plain": [
       "282-element Vector{Vector{SubString{String}}}:\n",
       " [\"eyr:2024\", \"pid:662406624\", \"hcl:#cfa07d\", \"byr:1947\", \"iyr:2015\", \"ecl:amb\", \"hgt:150cm\"]\n",
       " [\"iyr:2013\", \"byr:1997\", \"hgt:182cm\", \"hcl:#ceb3a1\", \"eyr:2027\", \"ecl:gry\", \"cid:102\", \"pid:018128535\"]\n",
       " [\"hgt:61in\", \"iyr:2014\", \"pid:916315544\", \"hcl:#733820\", \"ecl:oth\"]\n",
       " [\"hcl:#a97842\", \"eyr:2026\", \"byr:1980\", \"ecl:grn\", \"pid:726519569\", \"hgt:184cm\", \"cid:132\", \"iyr:2011\"]\n",
       " [\"ecl:grn\", \"hcl:#6b5442\", \"pid:619743219\", \"cid:69\", \"hgt:176cm\", \"eyr:2027\", \"iyr:2012\", \"byr:1980\"]\n",
       " [\"ecl:brn\", \"byr:1969\", \"iyr:2014\", \"hgt:164cm\", \"eyr:2020\", \"pid:982796633\", \"hcl:#602927\"]\n",
       " [\"ecl:gmt\", \"iyr:1987\", \"eyr:2039\", \"pid:15115163\", \"byr:2006\", \"hcl:bfab0d\"]\n",
       " [\"cid:117\", \"hcl:#efcc98\", \"iyr:2010\", \"pid:322719183\", \"hgt:176cm\", \"eyr:2020\", \"byr:1957\", \"ecl:brn\"]\n",
       " [\"byr:1954\", \"hgt:178cm\", \"hcl:#38f7fd\", \"pid:838813262\", \"ecl:blu\", \"eyr:2029\", \"iyr:2019\"]\n",
       " [\"eyr:2023\", \"ecl:amb\", \"iyr:2020\", \"byr:1927\", \"pid:242570886\", \"hcl:#18171d\", \"hgt:192cm\"]\n",
       " [\"iyr:1990\", \"cid:295\", \"hgt:131\", \"pid:187cm\", \"byr:2014\", \"ecl:xry\", \"hcl:z\", \"eyr:1928\"]\n",
       " [\"ecl:hzl\", \"byr:1953\", \"eyr:2023\", \"hcl:#866857\", \"hgt:181cm\", \"iyr:2010\", \"pid:568185567\"]\n",
       " [\"byr:2030\", \"hcl:#fffffd\", \"ecl:#a4a596\", \"hgt:168cm\", \"iyr:1936\", \"eyr:2020\", \"cid:296\", \"pid:168786676\"]\n",
       " ⋮\n",
       " [\"cid:147\", \"eyr:2021\", \"hgt:167cm\", \"iyr:2010\", \"ecl:grn\", \"byr:1975\", \"hcl:#6b5442\", \"pid:285479783\"]\n",
       " [\"hgt:187cm\", \"byr:2004\", \"eyr:2025\", \"hcl:bb331b\", \"pid:851189955\", \"iyr:2016\", \"ecl:amb\"]\n",
       " [\"hcl:#94007d\", \"pid:361561551\", \"byr:1927\", \"eyr:2026\", \"iyr:2020\", \"ecl:gry\", \"hgt:158cm\"]\n",
       " [\"byr:1993\", \"pid:#24c4af\", \"iyr:2023\", \"hgt:175cm\", \"eyr:2028\", \"hcl:z\", \"ecl:hzl\", \"cid:308\"]\n",
       " [\"byr:1985\", \"hcl:#c0946f\", \"eyr:2034\", \"hgt:172cm\", \"cid:300\", \"iyr:2013\", \"ecl:gry\", \"pid:389455676\"]\n",
       " [\"eyr:2030\", \"iyr:2017\", \"byr:1956\", \"hgt:178cm\", \"pid:864401853\", \"hcl:#6b5442\"]\n",
       " [\"pid:836559549\", \"iyr:2011\", \"hgt:167cm\", \"ecl:amb\", \"hcl:#c0946f\", \"eyr:2026\", \"byr:1981\"]\n",
       " [\"pid:111085991\", \"iyr:2011\", \"ecl:blu\", \"eyr:2026\", \"cid:311\", \"byr:1920\", \"hgt:182cm\", \"hcl:#602927\"]\n",
       " [\"ecl:oth\", \"pid:284436132\", \"byr:1929\", \"cid:121\", \"eyr:2027\", \"iyr:2010\", \"hgt:75in\", \"hcl:#6b5442\"]\n",
       " [\"byr:1987\", \"hcl:#7d3b0c\", \"iyr:2018\", \"hgt:180cm\", \"ecl:blu\", \"eyr:2029\", \"pid:878348021\"]\n",
       " [\"hgt:183cm\", \"cid:98\", \"byr:1953\", \"hcl:#866857\", \"eyr:2021\", \"iyr:2012\", \"pid:158898193\"]\n",
       " [\"eyr:2030\", \"pid:039638764\", \"ecl:hzl\", \"hgt:190cm\", \"byr:1926\", \"cid:294\", \"hcl:#b6652a\", \"iyr:2017\"]"
      ]
     },
     "execution_count": 6,
     "metadata": {},
     "output_type": "execute_result"
    }
   ],
   "source": [
    "passport = split(text,\"\\n\\n\")\n",
    "passport_list = split.(passport)"
   ]
  },
  {
   "cell_type": "markdown",
   "metadata": {},
   "source": [
    "#### part 1"
   ]
  },
  {
   "cell_type": "code",
   "execution_count": 7,
   "metadata": {},
   "outputs": [
    {
     "data": {
      "text/plain": [
       "250"
      ]
     },
     "execution_count": 7,
     "metadata": {},
     "output_type": "execute_result"
    }
   ],
   "source": [
    "valid_passes = 0\n",
    "for pass in passport_list\n",
    "    \n",
    "    temp_pass = Dict(split(x,\":\")[1] => split(x,\":\")[2] for x in pass)\n",
    "    if (length(keys(temp_pass)) == 8) || ((length(keys(temp_pass)) == 7) && (\"cid\" ∉ keys(temp_pass)))\n",
    "\n",
    "        valid_passes +=1\n",
    "    else\n",
    "        continue\n",
    "    end\n",
    "end\n",
    "valid_passes"
   ]
  },
  {
   "cell_type": "markdown",
   "metadata": {},
   "source": [
    "#### part 2"
   ]
  },
  {
   "cell_type": "code",
   "execution_count": 8,
   "metadata": {},
   "outputs": [
    {
     "data": {
      "text/plain": [
       "158"
      ]
     },
     "execution_count": 8,
     "metadata": {},
     "output_type": "execute_result"
    }
   ],
   "source": [
    "valid_passes = 0\n",
    "for pass in passport_list\n",
    "    \n",
    "    temp_pass = Dict(split(x,\":\")[1] => split(x,\":\")[2] for x in pass)\n",
    "    if (length(keys(temp_pass)) == 8) || ((length(keys(temp_pass)) == 7) && (\"cid\" ∉ keys(temp_pass)))\n",
    "        if (\n",
    "                (length(temp_pass[\"byr\"]) ==4 && 1920<=parse(Int,temp_pass[\"byr\"])<=2002) &&\n",
    "                (length(temp_pass[\"iyr\"]) ==4 && 2010<=parse(Int,temp_pass[\"iyr\"])<=2020) &&\n",
    "                (length(temp_pass[\"eyr\"]) ==4 && 2020<=parse(Int,temp_pass[\"eyr\"])<=2030) &&\n",
    "                (\n",
    "                    (\n",
    "                        occursin(\"cm\",temp_pass[\"hgt\"]) &&\n",
    "                        (findfirst(\"c\",temp_pass[\"hgt\"]) == 4:4)&&\n",
    "                        (150 <= parse(Int64,temp_pass[\"hgt\"][1:3]) <= 193)) \n",
    "                    || (\n",
    "                        occursin(\"in\",temp_pass[\"hgt\"]) &&\n",
    "                        (findfirst(\"i\",temp_pass[\"hgt\"]) == 3:3) &&\n",
    "                        (59 <= parse(Int64,temp_pass[\"hgt\"][1:2]) <= 76)\n",
    "                        )\n",
    "                    ) &&\n",
    "                (occursin(r\"#[0-9a-z]{6}\",temp_pass[\"hcl\"]) && length(temp_pass[\"hcl\"]) ==7) &\n",
    "                (temp_pass[\"ecl\"] in [\"amb\",\"blu\",\"brn\",\"gry\",\"grn\",\"hzl\",\"oth\"]) &&\n",
    "                (occursin(r\"[0-9]{9}\",temp_pass[\"pid\"]) && length(temp_pass[\"pid\"]) == 9)                \n",
    "            )\n",
    "            valid_passes+=1\n",
    "            \n",
    "        end\n",
    "    else\n",
    "        continue\n",
    "    end\n",
    "end\n",
    "valid_passes"
   ]
  },
  {
   "cell_type": "markdown",
   "metadata": {},
   "source": [
    "# Day 5"
   ]
  },
  {
   "cell_type": "markdown",
   "metadata": {},
   "source": [
    "#### part 1"
   ]
  },
  {
   "cell_type": "code",
   "execution_count": 9,
   "metadata": {},
   "outputs": [
    {
     "data": {
      "text/plain": [
       "f (generic function with 1 method)"
      ]
     },
     "execution_count": 9,
     "metadata": {},
     "output_type": "execute_result"
    }
   ],
   "source": [
    "text = readlines(\"../Data/input_d5.txt\")\n",
    "total_seats = 0:127\n",
    "seat_line = 0:7\n",
    "function b(arr)\n",
    "    return arr[Int(length(arr)/2)+1:length(arr)]\n",
    "end\n",
    "\n",
    "function f(arr)\n",
    "    return arr[1:Int(length(arr)/2)]\n",
    "end\n"
   ]
  },
  {
   "cell_type": "code",
   "execution_count": 10,
   "metadata": {},
   "outputs": [
    {
     "data": {
      "text/plain": [
       "933"
      ]
     },
     "execution_count": 10,
     "metadata": {},
     "output_type": "execute_result"
    }
   ],
   "source": [
    "max_value = 0\n",
    "parse_dict = Dict('B'=>b,'F'=>f,'R' => b,'L'=> f)\n",
    "for code in text\n",
    "    row = total_seats\n",
    "    seat = seat_line\n",
    "    row_finder = code[1:7]\n",
    "    column = code[8:10]\n",
    "    for row_f in row_finder\n",
    "        row = parse_dict[row_f](row)\n",
    "    end\n",
    "\n",
    "    for col in column\n",
    "        seat = parse_dict[col](seat)\n",
    "    end\n",
    "    if (row[1]*8 + seat[1]) > max_value\n",
    "        max_value = row[1]*8 + seat[1]\n",
    "    end\n",
    "end\n",
    "    \n",
    "max_value"
   ]
  },
  {
   "cell_type": "markdown",
   "metadata": {},
   "source": [
    "### part 2"
   ]
  },
  {
   "cell_type": "code",
   "execution_count": 11,
   "metadata": {},
   "outputs": [
    {
     "data": {
      "text/plain": [
       "1-element Vector{Int64}:\n",
       " 711"
      ]
     },
     "execution_count": 11,
     "metadata": {},
     "output_type": "execute_result"
    }
   ],
   "source": [
    "seat_ids = []\n",
    "parse_dict = Dict('B'=>b,'F'=>f,'R' => b,'L'=> f)\n",
    "for code in text\n",
    "    row = total_seats\n",
    "    seat = seat_line\n",
    "    row_finder = code[1:7]\n",
    "    column = code[8:10]\n",
    "    for row_f in row_finder\n",
    "        row = parse_dict[row_f](row)\n",
    "    end\n",
    "\n",
    "    for col in column\n",
    "        seat = parse_dict[col](seat)\n",
    "    end\n",
    "    append!(seat_ids,row[1]*8 + seat[1])\n",
    "end\n",
    "    \n",
    "[x+1 for x in seat_ids if (x+1 ∉ seat_ids) && (x+1 < max_value)]"
   ]
  },
  {
   "cell_type": "markdown",
   "metadata": {},
   "source": [
    "# Day 6"
   ]
  },
  {
   "cell_type": "markdown",
   "metadata": {},
   "source": [
    "#### part 1"
   ]
  },
  {
   "cell_type": "code",
   "execution_count": null,
   "metadata": {
    "scrolled": true
   },
   "outputs": [],
   "source": [
    "inputs = split.(split(read(\"../Data/input_d6.txt\",String),\"\\n\\n\"),r\"\\n|\\s\",keepempty = false)\n",
    "inputs_joined = [join(x) for x in inputs]\n",
    "unique_inputs = [length(unique(x)) for x in inputs_joined]\n",
    "sum_inputs = sum(unique_inputs)"
   ]
  },
  {
   "cell_type": "markdown",
   "metadata": {},
   "source": [
    "#### part 2"
   ]
  },
  {
   "cell_type": "code",
   "execution_count": null,
   "metadata": {
    "scrolled": true
   },
   "outputs": [],
   "source": [
    "sum_of_agreement = 0\n",
    "for input in inputs\n",
    "    sum_of_agreement+= length(intersect(Set.(split.(input,\"\"))...))\n",
    "end\n",
    "    "
   ]
  },
  {
   "cell_type": "code",
   "execution_count": null,
   "metadata": {},
   "outputs": [],
   "source": [
    "sum_of_agreement"
   ]
  },
  {
   "cell_type": "code",
   "execution_count": null,
   "metadata": {
    "scrolled": true
   },
   "outputs": [],
   "source": [
    "rules = readlines(\"../Data/input_d7.txt\")"
   ]
  },
  {
   "cell_type": "markdown",
   "metadata": {},
   "source": [
    "# Day 7\n"
   ]
  },
  {
   "cell_type": "code",
   "execution_count": 1,
   "metadata": {},
   "outputs": [
    {
     "data": {
      "text/plain": [
       "594-element Array{String,1}:\n",
       " \"dotted blue bags contain 3 wavy bronze bags, 5 clear tomato bags.\"\n",
       " \"mirrored brown bags contain 1 pale teal bag, 3 muted gray bags, 3 dark bronze bags.\"\n",
       " \"shiny violet bags contain 3 vibrant crimson bags.\"\n",
       " \"dotted crimson bags contain 1 posh red bag, 3 dim olive bags.\"\n",
       " \"dotted red bags contain 2 drab white bags, 2 bright cyan bags, 4 bright coral bags, 5 drab maroon bags.\"\n",
       " \"muted beige bags contain 4 clear tomato bags, 1 dotted black bag.\"\n",
       " \"dark lime bags contain 4 light lavender bags, 3 vibrant beige bags, 5 light brown bags.\"\n",
       " \"posh yellow bags contain 4 wavy chartreuse bags, 3 dull white bags, 2 shiny tomato bags, 1 mirrored gray bag.\"\n",
       " \"vibrant turquoise bags contain 5 wavy crimson bags, 5 dim maroon bags, 1 dotted silver bag.\"\n",
       " \"drab brown bags contain 1 vibrant cyan bag.\"\n",
       " \"bright crimson bags contain 2 drab purple bags, 2 faded beige bags, 4 dim turquoise bags.\"\n",
       " \"clear gold bags contain 3 dotted tomato bags, 5 pale magenta bags, 3 clear gray bags.\"\n",
       " \"bright lavender bags contain 1 vibrant silver bag, 5 dotted black bags, 1 dark aqua bag.\"\n",
       " ⋮\n",
       " \"light aqua bags contain 3 mirrored aqua bags, 2 clear lavender bags.\"\n",
       " \"clear white bags contain 5 drab maroon bags, 5 posh bronze bags, 3 posh gold bags, 5 dark white bags.\"\n",
       " \"pale fuchsia bags contain 3 clear gray bags, 2 clear violet bags, 5 striped gold bags.\"\n",
       " \"muted plum bags contain 5 vibrant crimson bags.\"\n",
       " \"striped blue bags contain 4 mirrored red bags, 4 shiny silver bags, 3 pale turquoise bags, 3 plaid violet bags.\"\n",
       " \"vibrant violet bags contain 1 bright coral bag.\"\n",
       " \"dim violet bags contain 4 pale teal bags, 1 faded orange bag, 4 vibrant gray bags, 4 dotted salmon bags.\"\n",
       " \"dotted olive bags contain 4 mirrored salmon bags.\"\n",
       " \"striped gold bags contain 2 clear gray bags, 2 dull yellow bags, 1 dotted black bag, 4 posh red bags.\"\n",
       " \"wavy gold bags contain 3 bright yellow bags, 3 shiny beige bags.\"\n",
       " \"shiny tomato bags contain 1 dark turquoise bag, 4 vibrant cyan bags, 4 dotted olive bags, 2 wavy plum bags.\"\n",
       " \"wavy black bags contain 4 dotted indigo bags, 1 light tan bag, 5 bright cyan bags.\""
      ]
     },
     "execution_count": 1,
     "metadata": {},
     "output_type": "execute_result"
    }
   ],
   "source": [
    "rules = readlines(\"../Data/input_d7.txt\")"
   ]
  },
  {
   "cell_type": "code",
   "execution_count": 2,
   "metadata": {
    "scrolled": true
   },
   "outputs": [
    {
     "data": {
      "text/plain": [
       "594-element Array{SubString{String},1}:\n",
       " \"dotted blue bag\"\n",
       " \"mirrored brown bag\"\n",
       " \"shiny violet bag\"\n",
       " \"dotted crimson bag\"\n",
       " \"dotted red bag\"\n",
       " \"muted beige bag\"\n",
       " \"dark lime bag\"\n",
       " \"posh yellow bag\"\n",
       " \"vibrant turquoise bag\"\n",
       " \"drab brown bag\"\n",
       " \"bright crimson bag\"\n",
       " \"clear gold bag\"\n",
       " \"bright lavender bag\"\n",
       " ⋮\n",
       " \"light aqua bag\"\n",
       " \"clear white bag\"\n",
       " \"pale fuchsia bag\"\n",
       " \"muted plum bag\"\n",
       " \"striped blue bag\"\n",
       " \"vibrant violet bag\"\n",
       " \"dim violet bag\"\n",
       " \"dotted olive bag\"\n",
       " \"striped gold bag\"\n",
       " \"wavy gold bag\"\n",
       " \"shiny tomato bag\"\n",
       " \"wavy black bag\""
      ]
     },
     "execution_count": 2,
     "metadata": {},
     "output_type": "execute_result"
    }
   ],
   "source": [
    "inner_bags = [split(rule,\" contain \")[2] for rule in rules]\n",
    "inner_bags = [split(rule,r\"\\.\")[1] for rule in inner_bags]\n",
    "inner_bags = [replace(rule,\"bags\"=>\"bag\") for rule in inner_bags]\n",
    "outer_bags = [split(rule,\"s contain \")[1] for rule in rules] "
   ]
  },
  {
   "cell_type": "markdown",
   "metadata": {},
   "source": [
    "#### Part1 how many bags contain a shiny gold bag eventually"
   ]
  },
  {
   "cell_type": "code",
   "execution_count": 3,
   "metadata": {},
   "outputs": [
    {
     "data": {
      "text/plain": [
       "find_total_amount_bags (generic function with 1 method)"
      ]
     },
     "execution_count": 3,
     "metadata": {},
     "output_type": "execute_result"
    }
   ],
   "source": [
    "function search_outers(inner_bag,inner_bags)\n",
    "    outer_bag = findall(occursin.(inner_bag,inner_bags))\n",
    "    return outer_bag\n",
    "end\n",
    "\n",
    "\n",
    "function find_total_amount_bags(inner_bags,outer_bags,starting_bag,list_of_bags)\n",
    "    output_bags =[x for x in outer_bags[search_outers(starting_bag,inner_bags)] if x ∉ list_of_bags]\n",
    "    append!(list_of_bags,output_bags)\n",
    "    for x in output_bags\n",
    "        list_of_bags = find_total_amount_bags(inner_bags,outer_bags,x,list_of_bags)\n",
    "    end\n",
    "    return list_of_bags\n",
    "end"
   ]
  },
  {
   "cell_type": "code",
   "execution_count": 8,
   "metadata": {
    "scrolled": true
   },
   "outputs": [
    {
     "data": {
      "text/plain": [
       "337-element Array{Any,1}:\n",
       " \"wavy beige bag\"\n",
       " \"bright coral bag\"\n",
       " \"pale indigo bag\"\n",
       " \"pale beige bag\"\n",
       " \"mirrored silver bag\"\n",
       " \"dull gold bag\"\n",
       " \"bright cyan bag\"\n",
       " \"vibrant fuchsia bag\"\n",
       " \"striped red bag\"\n",
       " \"plaid olive bag\"\n",
       " \"posh silver bag\"\n",
       " \"light teal bag\"\n",
       " \"dotted red bag\"\n",
       " ⋮\n",
       " \"mirrored red bag\"\n",
       " \"posh beige bag\"\n",
       " \"posh crimson bag\"\n",
       " \"dull chartreuse bag\"\n",
       " \"drab green bag\"\n",
       " \"bright bronze bag\"\n",
       " \"plaid silver bag\"\n",
       " \"dark yellow bag\"\n",
       " \"dotted turquoise bag\"\n",
       " \"dark coral bag\"\n",
       " \"light aqua bag\"\n",
       " \"light magenta bag\""
      ]
     },
     "execution_count": 8,
     "metadata": {},
     "output_type": "execute_result"
    }
   ],
   "source": [
    "list_of_bags = []\n",
    "list_of_bags = find_total_amount_bags(inner_bags,outer_bags,\"shiny gold bag\",list_of_bags)"
   ]
  },
  {
   "cell_type": "markdown",
   "metadata": {},
   "source": [
    "#### part 2"
   ]
  },
  {
   "cell_type": "code",
   "execution_count": 6,
   "metadata": {
    "scrolled": true
   },
   "outputs": [
    {
     "data": {
      "text/plain": [
       "find_bags_to_buy (generic function with 1 method)"
      ]
     },
     "execution_count": 6,
     "metadata": {},
     "output_type": "execute_result"
    }
   ],
   "source": [
    "function search_inner(start_bag,outer_bags)\n",
    "    inner_bag = findfirst(occursin.(start_bag,outer_bags))\n",
    "    return inner_bag\n",
    "end\n",
    "\n",
    "function find_bags_to_buy(inner_bags,outer_bags,start_bag)\n",
    "    bags_in_bag = inner_bags[search_inner(start_bag,outer_bags)]\n",
    "    if !occursin(\"no other bag\",bags_in_bag)\n",
    "        bags_in_bag = split(bags_in_bag,\", \")\n",
    "        the_bags = [x[2] for x in split.(bags_in_bag,r\"\\d \")]\n",
    "        the_amount = [parse(Int64,x[1]) for x in bags_in_bag]\n",
    "        amount_bags = sum(the_amount)\n",
    "        for bag in the_bags\n",
    "            \n",
    "            n_bag = sum(the_amount[findall(occursin.(bag,the_bags))])\n",
    "            amount_bags += n_bag*(find_bags_to_buy(inner_bags,outer_bags,bag))\n",
    "        end\n",
    "        return amount_bags\n",
    "    \n",
    "    else\n",
    "        return 0\n",
    "    end\n",
    "end\n",
    "    "
   ]
  },
  {
   "cell_type": "code",
   "execution_count": 7,
   "metadata": {},
   "outputs": [
    {
     "data": {
      "text/plain": [
       "50100"
      ]
     },
     "execution_count": 7,
     "metadata": {},
     "output_type": "execute_result"
    }
   ],
   "source": [
    "find_bags_to_buy(inner_bags,outer_bags,\"shiny gold bag\")"
   ]
  },
  {
   "cell_type": "markdown",
   "metadata": {},
   "source": [
    "# Day 8"
   ]
  },
  {
   "cell_type": "code",
   "execution_count": 9,
   "metadata": {},
   "outputs": [],
   "source": [
    "input = readlines(\"../Data/input_d8.txt\");\n",
    "#input = split.(\"nop +0\\nacc +1\\njmp +4\\nacc +3\\njmp -3\\nacc -99\\nacc +1\\njmp -4\\nacc +6\",\"\\n\")"
   ]
  },
  {
   "cell_type": "code",
   "execution_count": 10,
   "metadata": {},
   "outputs": [],
   "source": [
    "commands = [x[1] for x in split.(input, \" \")]\n",
    "actions = [x[2] for x in split.(input, \" \")];"
   ]
  },
  {
   "cell_type": "code",
   "execution_count": 11,
   "metadata": {
    "scrolled": true
   },
   "outputs": [
    {
     "data": {
      "text/plain": [
       "(1939, 542)"
      ]
     },
     "execution_count": 11,
     "metadata": {},
     "output_type": "execute_result"
    }
   ],
   "source": [
    "function boot_it(commands,actions)\n",
    "    i = 0\n",
    "    index_temp = 1\n",
    "    indices_used = []\n",
    "    while index_temp ∉ indices_used\n",
    "        append!(indices_used, index_temp)\n",
    "\n",
    "        if commands[index_temp] == \"acc\"\n",
    "            i += parse(Int64,actions[index_temp])\n",
    "            index_temp += 1\n",
    "        elseif commands[index_temp] == \"jmp\"\n",
    "            index_temp += parse(Int64,actions[index_temp])\n",
    "        else\n",
    "            index_temp += 1\n",
    "        \n",
    "        end\n",
    "    end\n",
    "    return i,indices_used[length(indices_used)]\n",
    "end\n",
    "    \n",
    "boot_it(commands, actions)"
   ]
  },
  {
   "cell_type": "markdown",
   "metadata": {},
   "source": [
    "#### part2"
   ]
  },
  {
   "cell_type": "code",
   "execution_count": 12,
   "metadata": {},
   "outputs": [
    {
     "data": {
      "text/plain": [
       "fix_it (generic function with 1 method)"
      ]
     },
     "execution_count": 12,
     "metadata": {},
     "output_type": "execute_result"
    }
   ],
   "source": [
    "function fix_it(commands,actions)\n",
    "    for i in range(1,length(commands);step = 1)\n",
    "        temp_commands = copy(commands)\n",
    "        if temp_commands[i] == \"acc\"\n",
    "            continue\n",
    "        elseif temp_commands[i] == \"jmp\"\n",
    "            temp_commands[i] = \"nop\" \n",
    "        else\n",
    "            temp_commands[i] = \"jmp\"\n",
    "        end\n",
    "        index = 1\n",
    "        accum = 0\n",
    "        indices_used = []\n",
    "        while index ∉ indices_used\n",
    "            append!(indices_used, index)\n",
    "            if index > length(commands)\n",
    "                return accum\n",
    "            end\n",
    "            if temp_commands[index] == \"acc\"\n",
    "                accum += parse(Int64,actions[index])\n",
    "                index += 1\n",
    "            elseif temp_commands[index] == \"jmp\"\n",
    "                index += parse(Int64,actions[index])\n",
    "            else\n",
    "                index += 1\n",
    "            end\n",
    "            \n",
    "        end\n",
    "    end\n",
    "end"
   ]
  },
  {
   "cell_type": "code",
   "execution_count": 13,
   "metadata": {},
   "outputs": [
    {
     "name": "stdout",
     "output_type": "stream",
     "text": [
      "  0.180484 seconds (744.16 k allocations: 25.197 MiB)\n"
     ]
    },
    {
     "data": {
      "text/plain": [
       "2212"
      ]
     },
     "execution_count": 13,
     "metadata": {},
     "output_type": "execute_result"
    }
   ],
   "source": [
    "@time begin\n",
    "    a = fix_it(commands,actions)\n",
    "end"
   ]
  },
  {
   "cell_type": "markdown",
   "metadata": {},
   "source": [
    "# Day 9"
   ]
  },
  {
   "cell_type": "markdown",
   "metadata": {},
   "source": [
    "#### part 1"
   ]
  },
  {
   "cell_type": "code",
   "execution_count": 15,
   "metadata": {},
   "outputs": [
    {
     "data": {
      "text/plain": [
       "is_possible (generic function with 1 method)"
      ]
     },
     "execution_count": 15,
     "metadata": {},
     "output_type": "execute_result"
    }
   ],
   "source": [
    "function is_possible(ins,queue)\n",
    "    is_possible = false\n",
    "    for x in queue\n",
    "        for y in queue \n",
    "            if y != x\n",
    "                if y+x == ins\n",
    "                    is_possible = true\n",
    "                end\n",
    "            else\n",
    "                continue\n",
    "            end\n",
    "        end\n",
    "    end\n",
    "    return is_possible\n",
    "end"
   ]
  },
  {
   "cell_type": "code",
   "execution_count": 16,
   "metadata": {},
   "outputs": [
    {
     "data": {
      "text/plain": [
       "return_non_possible (generic function with 1 method)"
      ]
     },
     "execution_count": 16,
     "metadata": {},
     "output_type": "execute_result"
    }
   ],
   "source": [
    "using DataStructures\n",
    "function return_non_possible(input,index_to_commence)\n",
    "    q = Queue{Int}()\n",
    "    map(x -> enqueue!(q,x),input[1:index_to_commence-1])\n",
    "    ins = input[index_to_commence]\n",
    "    while is_possible(ins,q)\n",
    "        dequeue!(q)\n",
    "        enqueue!(q,ins)\n",
    "        index_to_commence +=1\n",
    "        ins = input[index_to_commence]        \n",
    "    end\n",
    "    return ins\n",
    "end\n"
   ]
  },
  {
   "cell_type": "code",
   "execution_count": 20,
   "metadata": {},
   "outputs": [
    {
     "data": {
      "text/plain": [
       "393911906"
      ]
     },
     "execution_count": 20,
     "metadata": {},
     "output_type": "execute_result"
    }
   ],
   "source": [
    "\n",
    "input = parse.(Int64,readlines(\"../Data/input_d9.txt\"))\n",
    "#input = parse.(Int64,split(\"35\\n20\\n15\\n25\\n47\\n40\\n62\\n55\\n65\\n95\\n102\\n117\\n150\\n182\\n127\\n219\\n299\\n277\\n309\\n576\",\"\\n\",))\n",
    "return_non_possible(input,26)"
   ]
  },
  {
   "cell_type": "markdown",
   "metadata": {},
   "source": [
    "#### part 2"
   ]
  },
  {
   "cell_type": "code",
   "execution_count": 18,
   "metadata": {},
   "outputs": [
    {
     "data": {
      "text/plain": [
       "find_continguous_range (generic function with 1 method)"
      ]
     },
     "execution_count": 18,
     "metadata": {},
     "output_type": "execute_result"
    }
   ],
   "source": [
    "function find_continguous_range(input,index_to_commence)\n",
    "    total_to_sum_to = return_non_possible(input,index_to_commence)\n",
    "    println(total_to_sum_to)\n",
    "    for _ in input[index_to_commence:length(input)]\n",
    "        for back in range(0,length(input[1:index_to_commence])-1;step = 1)\n",
    "            temp_list = input[index_to_commence-back:index_to_commence]\n",
    "            if sum(temp_list) == total_to_sum_to\n",
    "                return maximum(temp_list) + minimum(temp_list)\n",
    "            end\n",
    "        end\n",
    "        index_to_commence += 1\n",
    "    end\n",
    "end\n"
   ]
  },
  {
   "cell_type": "code",
   "execution_count": 19,
   "metadata": {},
   "outputs": [
    {
     "name": "stdout",
     "output_type": "stream",
     "text": [
      "393911906\n"
     ]
    },
    {
     "data": {
      "text/plain": [
       "59341885"
      ]
     },
     "execution_count": 19,
     "metadata": {},
     "output_type": "execute_result"
    }
   ],
   "source": [
    "input = parse.(Int64,readlines(\"../Data/input_d9.txt\"))\n",
    "#input = parse.(Int64,split(\"35\\n20\\n15\\n25\\n47\\n40\\n62\\n55\\n65\\n95\\n102\\n117\\n150\\n182\\n127\\n219\\n299\\n277\\n309\\n576\",\"\\n\",))\n",
    "find_continguous_range(input,26)"
   ]
  },
  {
   "cell_type": "markdown",
   "metadata": {},
   "source": [
    "## Day 10"
   ]
  },
  {
   "cell_type": "code",
   "execution_count": 1,
   "metadata": {},
   "outputs": [
    {
     "name": "stdout",
     "output_type": "stream",
     "text": [
      "169"
     ]
    }
   ],
   "source": [
    "using DataStructures\n",
    "input = Queue{Int64}()\n",
    "#map(x -> enqueue!(input,x),sort(parse.(Int64,split(\"28\\n33\\n18\\n42\\n31\\n14\\n46\\n20\\n48\\n47\\n24\\n23\\n49\\n45\\n19\\n38\\n39\\n11\\n1\\n32\\n25\\n35\\n8\\n17\\n7\\n9\\n4\\n2\\n34\\n10\\n3\",\"\\n\"))))\n",
    "map(x -> enqueue!(input,x),sort(parse.(Int64,readlines(\"../Data/input_d10.txt\"))))\n",
    "print(maximum(input))"
   ]
  },
  {
   "cell_type": "markdown",
   "metadata": {},
   "source": [
    "#### Part 1"
   ]
  },
  {
   "cell_type": "code",
   "execution_count": 2,
   "metadata": {},
   "outputs": [
    {
     "data": {
      "text/plain": [
       "2432"
      ]
     },
     "execution_count": 2,
     "metadata": {},
     "output_type": "execute_result"
    }
   ],
   "source": [
    "device_jolt = maximum(input)+3\n",
    "output_jolt = 0\n",
    "counts_dict = Dict(:ones=>0,:threes=>1)\n",
    "for _ in  range(1,length(input);step = 1)\n",
    "    #println(input)\n",
    "    temp_nr = dequeue!(input)\n",
    "    #println(temp_nr-output_jolt)\n",
    "    if temp_nr - output_jolt == 1\n",
    "        counts_dict[:ones]+=1\n",
    "    elseif temp_nr - output_jolt == 3\n",
    "        counts_dict[:threes] +=1 \n",
    "    else\n",
    "        continue\n",
    "    end\n",
    "    output_jolt = temp_nr\n",
    "end\n",
    "counts_dict[:ones]*counts_dict[:threes]\n"
   ]
  },
  {
   "cell_type": "markdown",
   "metadata": {
    "tags": []
   },
   "source": [
    "#### Part 2"
   ]
  },
  {
   "cell_type": "code",
   "execution_count": 3,
   "metadata": {
    "scrolled": true
   },
   "outputs": [],
   "source": [
    "#input = append!([0],sort(parse.(Int64,split(\"28\\n33\\n18\\n42\\n31\\n14\\n46\\n20\\n48\\n47\\n24\\n23\\n49\\n45\\n19\\n38\\n39\\n11\\n1\\n32\\n25\\n35\\n8\\n17\\n7\\n9\\n4\\n2\\n34\\n10\\n3\",\"\\n\"))))\n",
    "#input = append!([0],sort(parse.(Int64,split(\"16\\n10\\n15\\n5\\n1\\n11\\n7\\n19\\n6\\n12\\n4\"))))\n",
    "\n",
    "input =  append!([0],sort(parse.(Int64,readlines(\"../Data/input_d10.txt\"))))\n",
    "append!(input,maximum(input)+3);\n"
   ]
  },
  {
   "cell_type": "code",
   "execution_count": 4,
   "metadata": {},
   "outputs": [
    {
     "name": "stdout",
     "output_type": "stream",
     "text": [
      "  0.271377 seconds (348.35 k allocations: 17.679 MiB)\n"
     ]
    },
    {
     "data": {
      "text/plain": [
       "453551299002368"
      ]
     },
     "execution_count": 4,
     "metadata": {},
     "output_type": "execute_result"
    }
   ],
   "source": [
    "combi = []\n",
    "function generate_group(input,i,combi)\n",
    "    if i == maximum(input)\n",
    "        append!(combi,1)\n",
    "\n",
    "        return prod(combi)        \n",
    "    end\n",
    "    temp_list = []\n",
    "    \n",
    "    while i ∈ input \n",
    "        append!(temp_list,i)\n",
    "        i+=1     \n",
    "    end\n",
    "    \n",
    "    if length(temp_list) > 0\n",
    "        if maximum(temp_list)-minimum(temp_list) > 3\n",
    "            append!(combi,2^length(filter(x->x !=first(temp_list) && x != last(temp_list),temp_list))-1)\n",
    "        elseif length(temp_list) > 3\n",
    "            append!(combi,2^length(filter(x->x !=first(temp_list) && x != last(temp_list),temp_list)))\n",
    "        elseif length(temp_list) == 3\n",
    "            append!(combi,2)\n",
    "        else append!(combi,1)\n",
    "        end\n",
    "    end\n",
    "    generate_group(input,i+1,combi)\n",
    "end\n",
    "@time begin\n",
    "\n",
    "    generate_group(input,0,combi)\n",
    "end\n",
    "#groups =[x for x in generate_group(input,0,group_list) if length(x)>0]"
   ]
  },
  {
   "cell_type": "markdown",
   "metadata": {},
   "source": [
    "## day 11"
   ]
  },
  {
   "cell_type": "markdown",
   "metadata": {},
   "source": [
    "#### part 1"
   ]
  },
  {
   "cell_type": "code",
   "execution_count": 11,
   "metadata": {},
   "outputs": [],
   "source": [
    "lines = map(collect, readlines(\"../Data/input_d11\"))\n",
    "grid = permutedims(hcat(lines...));"
   ]
  },
  {
   "cell_type": "code",
   "execution_count": 12,
   "metadata": {},
   "outputs": [
    {
     "data": {
      "text/plain": [
       "90×98 Array{Char,2}:\n",
       " 'L'  'L'  'L'  'L'  'L'  '.'  'L'  'L'  …  'L'  'L'  'L'  'L'  'L'  'L'  'L'\n",
       " 'L'  'L'  'L'  'L'  'L'  '.'  'L'  'L'     'L'  'L'  'L'  'L'  'L'  'L'  'L'\n",
       " 'L'  'L'  'L'  'L'  'L'  '.'  'L'  'L'     'L'  'L'  'L'  'L'  'L'  'L'  'L'\n",
       " 'L'  'L'  'L'  'L'  'L'  'L'  'L'  'L'     'L'  'L'  'L'  'L'  'L'  'L'  'L'\n",
       " 'L'  'L'  'L'  'L'  'L'  'L'  'L'  'L'     'L'  'L'  'L'  'L'  'L'  'L'  'L'\n",
       " 'L'  'L'  'L'  'L'  'L'  'L'  'L'  'L'  …  'L'  'L'  'L'  'L'  'L'  'L'  'L'\n",
       " 'L'  'L'  'L'  'L'  'L'  'L'  '.'  'L'     'L'  'L'  'L'  'L'  'L'  'L'  'L'\n",
       " '.'  'L'  'L'  '.'  '.'  'L'  'L'  '.'     '.'  'L'  '.'  '.'  '.'  '.'  'L'\n",
       " 'L'  'L'  'L'  'L'  'L'  '.'  'L'  'L'     'L'  'L'  'L'  'L'  'L'  'L'  'L'\n",
       " 'L'  'L'  'L'  'L'  'L'  'L'  'L'  'L'     'L'  'L'  '.'  'L'  'L'  'L'  'L'\n",
       " 'L'  'L'  'L'  'L'  'L'  '.'  'L'  'L'  …  'L'  'L'  'L'  'L'  'L'  'L'  'L'\n",
       " 'L'  'L'  'L'  'L'  'L'  'L'  '.'  'L'     '.'  'L'  'L'  'L'  '.'  'L'  'L'\n",
       " 'L'  '.'  'L'  '.'  '.'  '.'  'L'  '.'     '.'  '.'  'L'  '.'  'L'  '.'  '.'\n",
       " ⋮                        ⋮              ⋱                      ⋮         \n",
       " 'L'  'L'  'L'  'L'  'L'  '.'  'L'  'L'     'L'  'L'  'L'  '.'  'L'  'L'  'L'\n",
       " 'L'  'L'  'L'  'L'  '.'  '.'  'L'  'L'     'L'  'L'  'L'  'L'  'L'  'L'  'L'\n",
       " 'L'  'L'  'L'  '.'  'L'  '.'  'L'  'L'  …  'L'  'L'  'L'  'L'  '.'  'L'  'L'\n",
       " 'L'  '.'  'L'  'L'  '.'  '.'  'L'  'L'     'L'  'L'  'L'  'L'  'L'  'L'  'L'\n",
       " 'L'  'L'  'L'  'L'  'L'  '.'  'L'  'L'     'L'  'L'  'L'  'L'  'L'  'L'  'L'\n",
       " 'L'  '.'  '.'  '.'  '.'  'L'  '.'  '.'     '.'  '.'  '.'  '.'  'L'  '.'  '.'\n",
       " 'L'  'L'  'L'  'L'  'L'  '.'  'L'  'L'     'L'  'L'  'L'  'L'  'L'  '.'  'L'\n",
       " 'L'  'L'  'L'  'L'  'L'  '.'  'L'  'L'  …  'L'  'L'  'L'  'L'  '.'  'L'  'L'\n",
       " 'L'  'L'  'L'  'L'  'L'  '.'  'L'  'L'     'L'  'L'  'L'  'L'  'L'  'L'  'L'\n",
       " 'L'  'L'  'L'  'L'  'L'  '.'  'L'  'L'     'L'  'L'  'L'  'L'  'L'  'L'  'L'\n",
       " 'L'  'L'  'L'  'L'  'L'  '.'  'L'  'L'     'L'  'L'  'L'  'L'  'L'  'L'  'L'\n",
       " 'L'  'L'  'L'  'L'  'L'  'L'  'L'  'L'     'L'  'L'  'L'  'L'  'L'  'L'  'L'"
      ]
     },
     "execution_count": 12,
     "metadata": {},
     "output_type": "execute_result"
    }
   ],
   "source": [
    "grid"
   ]
  },
  {
   "cell_type": "code",
   "execution_count": null,
   "metadata": {},
   "outputs": [],
   "source": []
  }
 ],
 "metadata": {
  "kernelspec": {
   "display_name": "Julia 8 Threads 1.5.3",
   "language": "julia",
   "name": "julia-8-threads-1.5"
  },
  "language_info": {
   "file_extension": ".jl",
   "mimetype": "application/julia",
   "name": "julia",
   "version": "1.5.3"
  }
 },
 "nbformat": 4,
 "nbformat_minor": 4
}
