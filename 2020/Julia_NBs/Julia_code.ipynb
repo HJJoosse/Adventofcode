{
 "cells": [
  {
   "cell_type": "markdown",
   "metadata": {},
   "source": [
    "## DAY 1"
   ]
  },
  {
   "cell_type": "code",
   "execution_count": 1,
   "metadata": {
    "scrolled": true
   },
   "outputs": [
    {
     "data": {
      "text/plain": [
       "day1 (generic function with 1 method)"
      ]
     },
     "execution_count": 1,
     "metadata": {},
     "output_type": "execute_result"
    }
   ],
   "source": [
    "\n",
    "function day1(link)\n",
    "    text = readlines(link)\n",
    "    data = sort([parse(Int32,x) for x in text])\n",
    "\n",
    "    for x in data\n",
    "        rest = 2020-x\n",
    "        if rest in [z for z in data if z > x]\n",
    "            print(rest*x)\n",
    "        end\n",
    "    end\n",
    "end\n",
    "\n",
    "    \n"
   ]
  },
  {
   "cell_type": "code",
   "execution_count": 2,
   "metadata": {},
   "outputs": [
    {
     "name": "stdout",
     "output_type": "stream",
     "text": [
      "1006875  0.080067 seconds (98.78 k allocations: 5.204 MiB, 8.36% gc time)\n"
     ]
    }
   ],
   "source": [
    "@time begin\n",
    "    day1(\"../Data/input_d1\")\n",
    "end"
   ]
  },
  {
   "cell_type": "code",
   "execution_count": 3,
   "metadata": {},
   "outputs": [
    {
     "ename": "LoadError",
     "evalue": "UndefVarError: data not defined",
     "output_type": "error",
     "traceback": [
      "UndefVarError: data not defined",
      "",
      "Stacktrace:",
      " [1] top-level scope at In[3]:1",
      " [2] include_string(::Function, ::Module, ::String, ::String) at .\\loading.jl:1091"
     ]
    }
   ],
   "source": [
    "for x in data\n",
    "    rest = 2020-x\n",
    "    for y in [w for w in data if w > x]\n",
    "        rest_2 = rest - y\n",
    "        if (rest_2 in [z for z in data if z>y])\n",
    "            println(rest_2*y*x)\n",
    "        end\n",
    "    end\n",
    "end"
   ]
  },
  {
   "cell_type": "markdown",
   "metadata": {},
   "source": [
    "## DAY 4"
   ]
  },
  {
   "cell_type": "code",
   "execution_count": null,
   "metadata": {},
   "outputs": [],
   "source": [
    "text = read(\"../Data/input_d4\",String)"
   ]
  },
  {
   "cell_type": "code",
   "execution_count": null,
   "metadata": {
    "scrolled": true
   },
   "outputs": [],
   "source": [
    "passport = split(text,\"\\n\\n\")\n",
    "passport_list = [split(x) for x in passport]"
   ]
  },
  {
   "cell_type": "markdown",
   "metadata": {},
   "source": [
    "#### part 1"
   ]
  },
  {
   "cell_type": "code",
   "execution_count": null,
   "metadata": {},
   "outputs": [],
   "source": [
    "valid_passes = 0\n",
    "for pass in passport_list\n",
    "    \n",
    "    temp_pass = Dict(split(x,\":\")[1] => split(x,\":\")[2] for x in pass)\n",
    "    if (length(keys(temp_pass)) == 8) || ((length(keys(temp_pass)) == 7) && (\"cid\" ∉ keys(temp_pass)))\n",
    "\n",
    "        valid_passes +=1\n",
    "    else\n",
    "        continue\n",
    "    end\n",
    "end\n",
    "valid_passes"
   ]
  },
  {
   "cell_type": "markdown",
   "metadata": {},
   "source": [
    "#### part 2"
   ]
  },
  {
   "cell_type": "code",
   "execution_count": null,
   "metadata": {},
   "outputs": [],
   "source": [
    "valid_passes = 0\n",
    "for pass in passport_list\n",
    "    \n",
    "    temp_pass = Dict(split(x,\":\")[1] => split(x,\":\")[2] for x in pass)\n",
    "    if (length(keys(temp_pass)) == 8) || ((length(keys(temp_pass)) == 7) && (\"cid\" ∉ keys(temp_pass)))\n",
    "        if (\n",
    "                (length(temp_pass[\"byr\"]) ==4 && 1920<=parse(Int,temp_pass[\"byr\"])<=2002) &&\n",
    "                (length(temp_pass[\"iyr\"]) ==4 && 2010<=parse(Int,temp_pass[\"iyr\"])<=2020) &&\n",
    "                (length(temp_pass[\"eyr\"]) ==4 && 2020<=parse(Int,temp_pass[\"eyr\"])<=2030) &&\n",
    "                (\n",
    "                    (\n",
    "                        occursin(\"cm\",temp_pass[\"hgt\"]) &&\n",
    "                        (findfirst(\"c\",temp_pass[\"hgt\"]) == 4:4)&&\n",
    "                        (150 <= parse(Int64,temp_pass[\"hgt\"][1:3]) <= 193)) \n",
    "                    || (\n",
    "                        occursin(\"in\",temp_pass[\"hgt\"]) &&\n",
    "                        (findfirst(\"i\",temp_pass[\"hgt\"]) == 3:3) &&\n",
    "                        (59 <= parse(Int64,temp_pass[\"hgt\"][1:2]) <= 76)\n",
    "                        )\n",
    "                    ) &&\n",
    "                (occursin(r\"#[0-9a-z]{6}\",temp_pass[\"hcl\"]) && length(temp_pass[\"hcl\"]) ==7) &\n",
    "                (temp_pass[\"ecl\"] in [\"amb\",\"blu\",\"brn\",\"gry\",\"grn\",\"hzl\",\"oth\"]) &&\n",
    "                (occursin(r\"[0-9]{9}\",temp_pass[\"pid\"]) && length(temp_pass[\"pid\"]) == 9)                \n",
    "            )\n",
    "            valid_passes+=1\n",
    "            \n",
    "        end\n",
    "    else\n",
    "        continue\n",
    "    end\n",
    "end\n",
    "valid_passes"
   ]
  },
  {
   "cell_type": "markdown",
   "metadata": {},
   "source": [
    "# Day 5"
   ]
  },
  {
   "cell_type": "markdown",
   "metadata": {},
   "source": [
    "#### part 1"
   ]
  },
  {
   "cell_type": "code",
   "execution_count": null,
   "metadata": {},
   "outputs": [],
   "source": [
    "text = readlines(\"../Data/input_d5.txt\")\n",
    "total_seats = 0:127\n",
    "seat_line = 0:7\n",
    "function b(arr)\n",
    "    return arr[Int(length(arr)/2)+1:length(arr)]\n",
    "end\n",
    "\n",
    "function f(arr)\n",
    "    return arr[1:Int(length(arr)/2)]\n",
    "end\n"
   ]
  },
  {
   "cell_type": "code",
   "execution_count": null,
   "metadata": {},
   "outputs": [],
   "source": [
    "max_value = 0\n",
    "parse_dict = Dict('B'=>b,'F'=>f,'R' => b,'L'=> f)\n",
    "for code in text\n",
    "    row = total_seats\n",
    "    seat = seat_line\n",
    "    row_finder = code[1:7]\n",
    "    column = code[8:10]\n",
    "    for row_f in row_finder\n",
    "        row = parse_dict[row_f](row)\n",
    "    end\n",
    "\n",
    "    for col in column\n",
    "        seat = parse_dict[col](seat)\n",
    "    end\n",
    "    if (row[1]*8 + seat[1]) > max_value\n",
    "        max_value = row[1]*8 + seat[1]\n",
    "    end\n",
    "end\n",
    "    \n",
    "max_value"
   ]
  },
  {
   "cell_type": "markdown",
   "metadata": {},
   "source": [
    "### part 2"
   ]
  },
  {
   "cell_type": "code",
   "execution_count": null,
   "metadata": {},
   "outputs": [],
   "source": [
    "seat_ids = []\n",
    "parse_dict = Dict('B'=>b,'F'=>f,'R' => b,'L'=> f)\n",
    "for code in text\n",
    "    row = total_seats\n",
    "    seat = seat_line\n",
    "    row_finder = code[1:7]\n",
    "    column = code[8:10]\n",
    "    for row_f in row_finder\n",
    "        row = parse_dict[row_f](row)\n",
    "    end\n",
    "\n",
    "    for col in column\n",
    "        seat = parse_dict[col](seat)\n",
    "    end\n",
    "    append!(seat_ids,row[1]*8 + seat[1])\n",
    "end\n",
    "    \n",
    "[x+1 for x in seat_ids if (x+1 ∉ seat_ids) && (x+1 < max_value)]"
   ]
  },
  {
   "cell_type": "markdown",
   "metadata": {},
   "source": [
    "# Day 6"
   ]
  },
  {
   "cell_type": "markdown",
   "metadata": {},
   "source": [
    "#### part 1"
   ]
  },
  {
   "cell_type": "code",
   "execution_count": null,
   "metadata": {
    "scrolled": true
   },
   "outputs": [],
   "source": [
    "inputs = split.(split(read(\"../Data/input_d6.txt\",String),\"\\n\\n\"),r\"\\n|\\s\",keepempty = false)\n",
    "inputs_joined = [join(x) for x in inputs]\n",
    "unique_inputs = [length(unique(x)) for x in inputs_joined]\n",
    "sum_inputs = sum(unique_inputs)"
   ]
  },
  {
   "cell_type": "markdown",
   "metadata": {},
   "source": [
    "#### part 2"
   ]
  },
  {
   "cell_type": "code",
   "execution_count": null,
   "metadata": {
    "scrolled": true
   },
   "outputs": [],
   "source": [
    "sum_of_agreement = 0\n",
    "for input in inputs\n",
    "    sum_of_agreement+= length(intersect(Set.(split.(input,\"\"))...))\n",
    "end\n",
    "    "
   ]
  },
  {
   "cell_type": "code",
   "execution_count": null,
   "metadata": {},
   "outputs": [],
   "source": [
    "sum_of_agreement"
   ]
  },
  {
   "cell_type": "code",
   "execution_count": null,
   "metadata": {
    "scrolled": true
   },
   "outputs": [],
   "source": [
    "rules = readlines(\"../Data/input_d7.txt\")"
   ]
  },
  {
   "cell_type": "markdown",
   "metadata": {},
   "source": [
    "# Day 7\n"
   ]
  },
  {
   "cell_type": "code",
   "execution_count": null,
   "metadata": {},
   "outputs": [],
   "source": [
    "rules = readlines(\"../Data/input_d7.txt\")"
   ]
  },
  {
   "cell_type": "code",
   "execution_count": null,
   "metadata": {
    "scrolled": true
   },
   "outputs": [],
   "source": [
    "inner_bags = [split(rule,\" contain \")[2] for rule in rules]\n",
    "inner_bags = [split(rule,r\"\\.\")[1] for rule in inner_bags]\n",
    "inner_bags = [replace(rule,\"bags\"=>\"bag\") for rule in inner_bags]\n",
    "outer_bags = [split(rule,\"s contain \")[1] for rule in rules] "
   ]
  },
  {
   "cell_type": "markdown",
   "metadata": {},
   "source": [
    "#### Part1 how many bags contain a shiny gold bag eventually"
   ]
  },
  {
   "cell_type": "code",
   "execution_count": null,
   "metadata": {},
   "outputs": [],
   "source": [
    "function search_outers(inner_bag,inner_bags)\n",
    "    outer_bag = findall(occursin.(inner_bag,inner_bags))\n",
    "    return outer_bag\n",
    "end\n",
    "\n",
    "\n",
    "function find_total_amount_bags(inner_bags,outer_bags,starting_bag,list_of_bags)\n",
    "    output_bags =[x for x in outer_bags[search_outers(starting_bag,inner_bags)] if x ∉ list_of_bags]\n",
    "    append!(list_of_bags,output_bags)\n",
    "    for x in output_bags\n",
    "        list_of_bags = find_total_amount_bags(inner_bags,outer_bags,x,list_of_bags)\n",
    "    end\n",
    "    return list_of_bags\n",
    "end"
   ]
  },
  {
   "cell_type": "code",
   "execution_count": null,
   "metadata": {
    "scrolled": true
   },
   "outputs": [],
   "source": [
    "list_of_bags = []\n",
    "list_of_bags = find_total_amount_bags(inner_bags,outer_bags,\"shiny gold bag\",list_of_bags)"
   ]
  },
  {
   "cell_type": "markdown",
   "metadata": {},
   "source": [
    "#### part 2"
   ]
  },
  {
   "cell_type": "code",
   "execution_count": null,
   "metadata": {
    "scrolled": true
   },
   "outputs": [],
   "source": [
    "function search_inner(start_bag,outer_bags)\n",
    "    inner_bag = findfirst(occursin.(start_bag,outer_bags))\n",
    "    return inner_bag\n",
    "end\n",
    "\n",
    "function find_bags_to_buy(inner_bags,outer_bags,start_bag)\n",
    "    bags_in_bag = inner_bags[search_inner(start_bag,outer_bags)]\n",
    "    if !occursin(\"no other bag\",bags_in_bag)\n",
    "        bags_in_bag = split(bags_in_bag,\", \")\n",
    "        the_bags = [x[2] for x in split.(bags_in_bag,r\"\\d \")]\n",
    "        the_amount = [parse(Int64,x[1]) for x in bags_in_bag]\n",
    "        amount_bags = sum(the_amount)\n",
    "        for bag in the_bags\n",
    "            \n",
    "            n_bag = sum(the_amount[findall(occursin.(bag,the_bags))])\n",
    "            amount_bags += n_bag*(find_bags_to_buy(inner_bags,outer_bags,bag))\n",
    "        end\n",
    "        return amount_bags\n",
    "    \n",
    "    else\n",
    "        return 0\n",
    "    end\n",
    "end\n",
    "    "
   ]
  },
  {
   "cell_type": "code",
   "execution_count": null,
   "metadata": {},
   "outputs": [],
   "source": [
    "find_bags_to_buy(inner_bags,outer_bags,\"shiny gold bag\")"
   ]
  },
  {
   "cell_type": "markdown",
   "metadata": {},
   "source": [
    "# Day 8"
   ]
  },
  {
   "cell_type": "code",
   "execution_count": 15,
   "metadata": {},
   "outputs": [
    {
     "data": {
      "text/plain": [
       "636-element Array{String,1}:\n",
       " \"acc -13\"\n",
       " \"jmp +37\"\n",
       " \"acc -19\"\n",
       " \"jmp +1\"\n",
       " \"jmp +1\"\n",
       " \"jmp +413\"\n",
       " \"acc +10\"\n",
       " \"jmp +194\"\n",
       " \"jmp +587\"\n",
       " \"jmp +388\"\n",
       " \"acc +48\"\n",
       " \"nop +284\"\n",
       " \"acc +35\"\n",
       " ⋮\n",
       " \"acc +46\"\n",
       " \"jmp -564\"\n",
       " \"acc +40\"\n",
       " \"acc +29\"\n",
       " \"acc +13\"\n",
       " \"nop -285\"\n",
       " \"jmp -272\"\n",
       " \"acc +19\"\n",
       " \"acc -14\"\n",
       " \"acc +25\"\n",
       " \"acc +18\"\n",
       " \"jmp +1\""
      ]
     },
     "execution_count": 15,
     "metadata": {},
     "output_type": "execute_result"
    }
   ],
   "source": [
    "input = readlines(\"../Data/input_d8.txt\")\n",
    "#input = split.(\"nop +0\\nacc +1\\njmp +4\\nacc +3\\njmp -3\\nacc -99\\nacc +1\\njmp -4\\nacc +6\",\"\\n\")"
   ]
  },
  {
   "cell_type": "code",
   "execution_count": 16,
   "metadata": {},
   "outputs": [
    {
     "data": {
      "text/plain": [
       "636-element Array{SubString{String},1}:\n",
       " \"-13\"\n",
       " \"+37\"\n",
       " \"-19\"\n",
       " \"+1\"\n",
       " \"+1\"\n",
       " \"+413\"\n",
       " \"+10\"\n",
       " \"+194\"\n",
       " \"+587\"\n",
       " \"+388\"\n",
       " \"+48\"\n",
       " \"+284\"\n",
       " \"+35\"\n",
       " ⋮\n",
       " \"+46\"\n",
       " \"-564\"\n",
       " \"+40\"\n",
       " \"+29\"\n",
       " \"+13\"\n",
       " \"-285\"\n",
       " \"-272\"\n",
       " \"+19\"\n",
       " \"-14\"\n",
       " \"+25\"\n",
       " \"+18\"\n",
       " \"+1\""
      ]
     },
     "execution_count": 16,
     "metadata": {},
     "output_type": "execute_result"
    }
   ],
   "source": [
    "commands = [x[1] for x in split.(input, \" \")]\n",
    "actions = [x[2] for x in split.(input, \" \")]"
   ]
  },
  {
   "cell_type": "code",
   "execution_count": 3,
   "metadata": {
    "scrolled": true
   },
   "outputs": [
    {
     "data": {
      "text/plain": [
       "(5, 5)"
      ]
     },
     "execution_count": 3,
     "metadata": {},
     "output_type": "execute_result"
    }
   ],
   "source": [
    "function boot_it(commands,actions)\n",
    "    i = 0\n",
    "    index_temp = 1\n",
    "    indices_used = []\n",
    "    while index_temp ∉ indices_used\n",
    "        append!(indices_used, index_temp)\n",
    "\n",
    "        if commands[index_temp] == \"acc\"\n",
    "            i += parse(Int64,actions[index_temp])\n",
    "            index_temp += 1\n",
    "        elseif commands[index_temp] == \"jmp\"\n",
    "            index_temp += parse(Int64,actions[index_temp])\n",
    "        else\n",
    "            index_temp += 1\n",
    "        \n",
    "        end\n",
    "    end\n",
    "    return i,indices_used[length(indices_used)]\n",
    "end\n",
    "    \n",
    "boot_it(commands, actions)"
   ]
  },
  {
   "cell_type": "markdown",
   "metadata": {},
   "source": [
    "#### part2"
   ]
  },
  {
   "cell_type": "code",
   "execution_count": 17,
   "metadata": {},
   "outputs": [
    {
     "data": {
      "text/plain": [
       "fix_it (generic function with 1 method)"
      ]
     },
     "execution_count": 17,
     "metadata": {},
     "output_type": "execute_result"
    }
   ],
   "source": [
    "function fix_it(commands,actions)\n",
    "    for i in range(1,length(commands);step = 1)\n",
    "        temp_commands = copy(commands)\n",
    "        if temp_commands[i] == \"acc\"\n",
    "            continue\n",
    "        elseif temp_commands[i] == \"jmp\"\n",
    "            temp_commands[i] = \"nop\" \n",
    "        else\n",
    "            temp_commands[i] = \"jmp\"\n",
    "        end\n",
    "        index = 1\n",
    "        accum = 0\n",
    "        indices_used = []\n",
    "        while index ∉ indices_used\n",
    "            append!(indices_used, index)\n",
    "            if index > length(commands)\n",
    "                return accum\n",
    "            end\n",
    "            if temp_commands[index] == \"acc\"\n",
    "                accum += parse(Int64,actions[index])\n",
    "                index += 1\n",
    "            elseif temp_commands[index] == \"jmp\"\n",
    "                index += parse(Int64,actions[index])\n",
    "            else\n",
    "                index += 1\n",
    "            end\n",
    "            \n",
    "        end\n",
    "    end\n",
    "end"
   ]
  },
  {
   "cell_type": "code",
   "execution_count": 19,
   "metadata": {},
   "outputs": [
    {
     "name": "stdout",
     "output_type": "stream",
     "text": [
      "  0.135594 seconds (653.90 k allocations: 20.439 MiB, 6.05% gc time)\n"
     ]
    },
    {
     "data": {
      "text/plain": [
       "2212"
      ]
     },
     "execution_count": 19,
     "metadata": {},
     "output_type": "execute_result"
    }
   ],
   "source": [
    "@time begin\n",
    "    a = fix_it(commands,actions)\n",
    "end"
   ]
  },
  {
   "cell_type": "markdown",
   "metadata": {},
   "source": [
    "# Day 9"
   ]
  },
  {
   "cell_type": "code",
   "execution_count": null,
   "metadata": {},
   "outputs": [],
   "source": []
  }
 ],
 "metadata": {
  "kernelspec": {
   "display_name": "Julia 1.5.3",
   "language": "julia",
   "name": "julia-1.5"
  },
  "language_info": {
   "file_extension": ".jl",
   "mimetype": "application/julia",
   "name": "julia",
   "version": "1.5.3"
  }
 },
 "nbformat": 4,
 "nbformat_minor": 4
}
