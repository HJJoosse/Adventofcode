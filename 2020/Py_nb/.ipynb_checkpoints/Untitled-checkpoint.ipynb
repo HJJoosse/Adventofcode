{
 "cells": [
  {
   "cell_type": "code",
   "execution_count": 15,
   "metadata": {},
   "outputs": [],
   "source": [
    "with open(\"../Data/input_d8.txt\",\"r\") as f:\n",
    "    content = f.read()\n",
    "content = content.split(\"\\n\")[:-1]\n",
    "commands = [x.split(\" \")[0] for x in content]\n",
    "actions = [x.split(\" \")[1] for x in content]"
   ]
  },
  {
   "cell_type": "code",
   "execution_count": 40,
   "metadata": {},
   "outputs": [],
   "source": [
    "def fix_it(commands,actions):\n",
    "    for i in range(len(commands)):\n",
    "        temp_commands = commands.copy()\n",
    "        if temp_commands[i] == \"acc\":\n",
    "            continue\n",
    "        elif temp_commands[i] == \"jmp\":\n",
    "            temp_commands[i] = \"nop\"\n",
    "        else:\n",
    "            temp_commands[i] = \"jmp\"\n",
    "\n",
    "        index = 0\n",
    "        accum = 0\n",
    "        indices_used = []\n",
    "        while index not in indices_used:\n",
    "            indices_used.append(index)\n",
    "            if index >= len(commands):\n",
    "                return accum\n",
    "            \n",
    "            if temp_commands[index] == \"acc\":\n",
    "                accum += int(actions[index])\n",
    "                index += 1\n",
    "            elif temp_commands[index] == \"jmp\":\n",
    "                index += int(actions[index])\n",
    "            else:\n",
    "                index += 1\n"
   ]
  },
  {
   "cell_type": "code",
   "execution_count": 44,
   "metadata": {},
   "outputs": [
    {
     "name": "stdout",
     "output_type": "stream",
     "text": [
      "2212\n"
     ]
    },
    {
     "data": {
      "text/plain": [
       "0.04933849999997619"
      ]
     },
     "execution_count": 44,
     "metadata": {},
     "output_type": "execute_result"
    }
   ],
   "source": [
    "import time\n",
    "start=time.perf_counter()\n",
    "print(fix_it(commands,actions))\n",
    "stop =time.perf_counter()\n",
    "stop-start"
   ]
  },
  {
   "cell_type": "code",
   "execution_count": null,
   "metadata": {},
   "outputs": [],
   "source": []
  }
 ],
 "metadata": {
  "kernelspec": {
   "display_name": "Python 3",
   "language": "python",
   "name": "python3"
  },
  "language_info": {
   "codemirror_mode": {
    "name": "ipython",
    "version": 3
   },
   "file_extension": ".py",
   "mimetype": "text/x-python",
   "name": "python",
   "nbconvert_exporter": "python",
   "pygments_lexer": "ipython3",
   "version": "3.7.9"
  }
 },
 "nbformat": 4,
 "nbformat_minor": 4
}
